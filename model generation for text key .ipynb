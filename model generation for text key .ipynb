{
 "cells": [
  {
   "cell_type": "code",
   "execution_count": 1,
   "id": "c71e2d8f",
   "metadata": {},
   "outputs": [
    {
     "name": "stderr",
     "output_type": "stream",
     "text": [
      "2023-06-09 15:56:40.519417: I tensorflow/stream_executor/platform/default/dso_loader.cc:49] Successfully opened dynamic library libcudart.so.10.1\n"
     ]
    }
   ],
   "source": [
    "import random\n",
    "import numpy as np\n",
    "import tensorflow as tf\n",
    "from tensorflow import keras\n",
    "from sklearn.model_selection import train_test_split\n",
    "from simon import SimonCipher\n",
    "import pandas as pd\n",
    "import csv\n",
    "import matplotlib.pyplot as plt\n",
    "import seaborn as sns\n",
    "from tensorflow.keras.models import load_model\n",
    "import string"
   ]
  },
  {
   "cell_type": "code",
   "execution_count": 2,
   "id": "fd5680a9",
   "metadata": {},
   "outputs": [],
   "source": [
    "def convert_string_to_64_bit_binary(string):\n",
    "    # Encode the string using UTF-8\n",
    "    encoded_string = string.encode('utf-8')\n",
    "    \n",
    "    # Convert each byte to its binary representation\n",
    "    binary_list = [format(byte, '08b') for byte in encoded_string]\n",
    "    \n",
    "    # Extend the list to have a total of 64 bits\n",
    "    binary_list.extend(['00000000'] * (8 - len(binary_list)))\n",
    "    \n",
    "    # Join the binary strings and return the result\n",
    "    binary_representation = ''.join(binary_list)\n",
    "    return binary_representation"
   ]
  },
  {
   "cell_type": "code",
   "execution_count": 3,
   "id": "be3af296",
   "metadata": {},
   "outputs": [],
   "source": [
    "def generate_dataset(num_samples):\n",
    "    plaintexts = []\n",
    "    ciphertexts = []\n",
    "    keys = []\n",
    "\n",
    "    for _ in range(num_samples):\n",
    "        # Generate a random 32-bit plaintext\n",
    "        plaintext = random.randint(0, (1 << 32) - 1)\n",
    "\n",
    "        # Generate a random 64-bit key\n",
    "        key = ''.join(random.choice(list('0123456789ABCDEFGHIJKLMNOPQRSTUVWXYZabcdefghijklmnopqrstuvwxyz@?')) for _ in range(8))\n",
    "        key_bin = convert_string_to_64_bit_binary(key)\n",
    "        key_int = int(key_bin)\n",
    "        \n",
    "        # Encrypt the plaintext using Simon block cipher\n",
    "        cipher = SimonCipher(key_int, key_size=64, block_size=32)\n",
    "        ciphertext = cipher.encrypt(plaintext)\n",
    "\n",
    "        # Convert the plaintext, ciphertext, and key to binary strings\n",
    "        plaintext_bits = np.array(list(format(plaintext, '032b')), dtype=int)\n",
    "        ciphertext_bits = np.array(list(format(ciphertext, '032b')), dtype=int)\n",
    "        key_bits = np.array([int(key_bits) for key_bits in key_bin])\n",
    "\n",
    "        plaintexts.append(plaintext_bits)\n",
    "        ciphertexts.append(ciphertext_bits)\n",
    "        keys.append(key_bits)\n",
    "\n",
    "    # Convert the lists to NumPy arrays\n",
    "    plaintexts = np.array(plaintexts)\n",
    "    ciphertexts = np.array(ciphertexts)\n",
    "    keys = np.array(keys)\n",
    "\n",
    "    return plaintexts, ciphertexts, keys\n",
    "  \n",
    "    # Generate dataset with 1000000 samples\n",
    "plaintexts, ciphertexts, keys = generate_dataset(1000000)"
   ]
  },
  {
   "cell_type": "code",
   "execution_count": 4,
   "id": "b59d5362",
   "metadata": {},
   "outputs": [],
   "source": [
    "    with open('dataset1.csv', 'w', newline='') as file:\n",
    "        writer = csv.writer(file)\n",
    "        writer.writerow(['Plaintext', 'Ciphertext', 'Key'])\n",
    "        writer.writerows(zip(plaintexts, ciphertexts, keys))  "
   ]
  },
  {
   "cell_type": "code",
   "execution_count": 5,
   "id": "4076443c",
   "metadata": {},
   "outputs": [
    {
     "data": {
      "text/html": [
       "<div>\n",
       "<style scoped>\n",
       "    .dataframe tbody tr th:only-of-type {\n",
       "        vertical-align: middle;\n",
       "    }\n",
       "\n",
       "    .dataframe tbody tr th {\n",
       "        vertical-align: top;\n",
       "    }\n",
       "\n",
       "    .dataframe thead th {\n",
       "        text-align: right;\n",
       "    }\n",
       "</style>\n",
       "<table border=\"1\" class=\"dataframe\">\n",
       "  <thead>\n",
       "    <tr style=\"text-align: right;\">\n",
       "      <th></th>\n",
       "      <th>Plaintext</th>\n",
       "      <th>Ciphertext</th>\n",
       "      <th>Key</th>\n",
       "    </tr>\n",
       "  </thead>\n",
       "  <tbody>\n",
       "    <tr>\n",
       "      <th>0</th>\n",
       "      <td>[0 0 1 0 1 1 1 0 0 1 1 1 1 1 1 0 0 0 0 1 0 1 0...</td>\n",
       "      <td>[1 0 1 1 0 0 1 0 0 0 1 1 0 1 1 0 0 1 1 0 1 1 0...</td>\n",
       "      <td>[0 1 1 1 0 1 0 0 0 1 0 0 1 0 0 1 0 1 1 0 1 0 1...</td>\n",
       "    </tr>\n",
       "    <tr>\n",
       "      <th>1</th>\n",
       "      <td>[0 0 1 1 0 1 0 1 0 1 1 1 1 1 0 0 1 0 0 0 0 0 1...</td>\n",
       "      <td>[1 0 1 1 1 0 0 1 1 0 1 0 0 1 0 0 1 0 0 1 1 1 1...</td>\n",
       "      <td>[0 1 0 0 1 0 0 0 0 1 0 1 0 0 1 0 0 1 1 1 0 0 0...</td>\n",
       "    </tr>\n",
       "    <tr>\n",
       "      <th>2</th>\n",
       "      <td>[0 0 1 0 1 1 1 1 1 1 1 1 0 1 0 1 1 1 1 1 0 1 0...</td>\n",
       "      <td>[0 1 0 0 0 0 0 1 1 0 1 0 1 1 0 1 1 1 1 1 0 1 0...</td>\n",
       "      <td>[0 1 0 0 0 0 1 0 0 1 1 0 0 0 1 0 0 1 0 1 1 0 1...</td>\n",
       "    </tr>\n",
       "    <tr>\n",
       "      <th>3</th>\n",
       "      <td>[1 0 0 0 0 1 0 1 1 0 0 1 1 1 1 1 1 1 0 0 0 0 0...</td>\n",
       "      <td>[0 0 1 1 0 1 1 0 0 0 1 0 1 1 1 0 1 1 0 1 0 0 1...</td>\n",
       "      <td>[0 1 1 0 0 1 1 0 0 1 0 0 0 0 1 1 0 0 1 1 0 0 0...</td>\n",
       "    </tr>\n",
       "    <tr>\n",
       "      <th>4</th>\n",
       "      <td>[1 1 1 1 1 0 0 0 0 1 1 1 0 1 0 0 0 1 0 1 0 1 1...</td>\n",
       "      <td>[1 1 0 0 1 1 1 1 0 0 1 0 0 0 1 1 0 1 0 1 1 0 1...</td>\n",
       "      <td>[0 1 1 0 1 1 0 0 0 1 1 0 1 0 0 1 0 1 0 0 0 0 0...</td>\n",
       "    </tr>\n",
       "  </tbody>\n",
       "</table>\n",
       "</div>"
      ],
      "text/plain": [
       "                                           Plaintext  \\\n",
       "0  [0 0 1 0 1 1 1 0 0 1 1 1 1 1 1 0 0 0 0 1 0 1 0...   \n",
       "1  [0 0 1 1 0 1 0 1 0 1 1 1 1 1 0 0 1 0 0 0 0 0 1...   \n",
       "2  [0 0 1 0 1 1 1 1 1 1 1 1 0 1 0 1 1 1 1 1 0 1 0...   \n",
       "3  [1 0 0 0 0 1 0 1 1 0 0 1 1 1 1 1 1 1 0 0 0 0 0...   \n",
       "4  [1 1 1 1 1 0 0 0 0 1 1 1 0 1 0 0 0 1 0 1 0 1 1...   \n",
       "\n",
       "                                          Ciphertext  \\\n",
       "0  [1 0 1 1 0 0 1 0 0 0 1 1 0 1 1 0 0 1 1 0 1 1 0...   \n",
       "1  [1 0 1 1 1 0 0 1 1 0 1 0 0 1 0 0 1 0 0 1 1 1 1...   \n",
       "2  [0 1 0 0 0 0 0 1 1 0 1 0 1 1 0 1 1 1 1 1 0 1 0...   \n",
       "3  [0 0 1 1 0 1 1 0 0 0 1 0 1 1 1 0 1 1 0 1 0 0 1...   \n",
       "4  [1 1 0 0 1 1 1 1 0 0 1 0 0 0 1 1 0 1 0 1 1 0 1...   \n",
       "\n",
       "                                                 Key  \n",
       "0  [0 1 1 1 0 1 0 0 0 1 0 0 1 0 0 1 0 1 1 0 1 0 1...  \n",
       "1  [0 1 0 0 1 0 0 0 0 1 0 1 0 0 1 0 0 1 1 1 0 0 0...  \n",
       "2  [0 1 0 0 0 0 1 0 0 1 1 0 0 0 1 0 0 1 0 1 1 0 1...  \n",
       "3  [0 1 1 0 0 1 1 0 0 1 0 0 0 0 1 1 0 0 1 1 0 0 0...  \n",
       "4  [0 1 1 0 1 1 0 0 0 1 1 0 1 0 0 1 0 1 0 0 0 0 0...  "
      ]
     },
     "execution_count": 5,
     "metadata": {},
     "output_type": "execute_result"
    }
   ],
   "source": [
    "df = pd.read_csv('dataset1.csv')\n",
    "df.head()"
   ]
  },
  {
   "cell_type": "code",
   "execution_count": 1,
   "id": "e2975247",
   "metadata": {},
   "outputs": [
    {
     "ename": "NameError",
     "evalue": "name 'train_test_split' is not defined",
     "output_type": "error",
     "traceback": [
      "\u001b[0;31m---------------------------------------------------------------------------\u001b[0m",
      "\u001b[0;31mNameError\u001b[0m                                 Traceback (most recent call last)",
      "\u001b[0;32m/tmp/ipykernel_12552/2868348953.py\u001b[0m in \u001b[0;36m<module>\u001b[0;34m\u001b[0m\n\u001b[1;32m      1\u001b[0m \u001b[0;31m# Split the dataset into training and testing sets\u001b[0m\u001b[0;34m\u001b[0m\u001b[0;34m\u001b[0m\u001b[0;34m\u001b[0m\u001b[0m\n\u001b[0;32m----> 2\u001b[0;31m train_plaintexts, test_plaintexts, train_ciphertexts, test_ciphertexts, train_keys, test_keys = train_test_split(\n\u001b[0m\u001b[1;32m      3\u001b[0m     \u001b[0mplaintexts\u001b[0m\u001b[0;34m,\u001b[0m \u001b[0mciphertexts\u001b[0m\u001b[0;34m,\u001b[0m \u001b[0mkeys\u001b[0m\u001b[0;34m,\u001b[0m \u001b[0mtest_size\u001b[0m\u001b[0;34m=\u001b[0m\u001b[0;36m0.2\u001b[0m\u001b[0;34m,\u001b[0m \u001b[0mrandom_state\u001b[0m\u001b[0;34m=\u001b[0m\u001b[0;36m42\u001b[0m\u001b[0;34m\u001b[0m\u001b[0;34m\u001b[0m\u001b[0m\n\u001b[1;32m      4\u001b[0m )\n\u001b[1;32m      5\u001b[0m \u001b[0;34m\u001b[0m\u001b[0m\n",
      "\u001b[0;31mNameError\u001b[0m: name 'train_test_split' is not defined"
     ]
    }
   ],
   "source": [
    "# Split the dataset into training and testing sets\n",
    "train_plaintexts, test_plaintexts, train_ciphertexts, test_ciphertexts, train_keys, test_keys = train_test_split(\n",
    "    plaintexts, ciphertexts, keys, test_size=0.2, random_state=42\n",
    ")\n",
    "\n",
    "# Define the neural network architecture\n",
    "def create_model():\n",
    "    model = keras.Sequential([\n",
    "        keras.layers.Dense(512, activation='relu', input_shape=(64,)),\n",
    "        keras.layers.Dense(512, activation='relu'),\n",
    "        keras.layers.Dense(512, activation='relu'),\n",
    "        keras.layers.Dense(64, activation='sigmoid')\n",
    "    ])\n",
    "\n",
    "    # Compile the model\n",
    "    model.compile(optimizer='adam', loss='mse')\n",
    "    return model\n",
    "model = create_model()\n",
    "# Train the model\n",
    "model.fit(np.concatenate((train_plaintexts, train_ciphertexts), axis=1), train_keys, epochs=1000, batch_size=32)"
   ]
  },
  {
   "cell_type": "code",
   "execution_count": null,
   "id": "7847a74d",
   "metadata": {},
   "outputs": [],
   "source": [
    "model.summary()\n",
    "model.save('model3.h5')"
   ]
  },
  {
   "cell_type": "code",
   "execution_count": null,
   "id": "499f1f94",
   "metadata": {},
   "outputs": [],
   "source": [
    "loss = model.evaluate(np.concatenate((test_plaintexts, test_ciphertexts), axis=1), test_keys)\n",
    "print(\"Test Loss:\", loss)"
   ]
  },
  {
   "cell_type": "code",
   "execution_count": null,
   "id": "22254f2a",
   "metadata": {},
   "outputs": [],
   "source": [
    "predicted_keys = model.predict(np.concatenate((test_plaintexts, test_ciphertexts), axis=1))"
   ]
  },
  {
   "cell_type": "code",
   "execution_count": null,
   "id": "961da5c2",
   "metadata": {},
   "outputs": [],
   "source": [
    "loss1 = model.evaluate(test_keys, predicted_keys)\n",
    "print(\"Test Loss:\", loss1)"
   ]
  },
  {
   "cell_type": "code",
   "execution_count": null,
   "id": "061fec02",
   "metadata": {},
   "outputs": [],
   "source": [
    "predicted_keys =np.where(predicted_keys < 0.5, 0, 1)"
   ]
  },
  {
   "cell_type": "code",
   "execution_count": null,
   "id": "f7a89a8e",
   "metadata": {},
   "outputs": [],
   "source": [
    "predicted_keys[0]"
   ]
  },
  {
   "cell_type": "code",
   "execution_count": null,
   "id": "87ce1bdb",
   "metadata": {},
   "outputs": [],
   "source": [
    "key_r = test_keys.reshape(8,8,200000)\n",
    "p_keys_r = predicted_keys.reshape(8,8,200000)"
   ]
  },
  {
   "cell_type": "code",
   "execution_count": null,
   "id": "722bc451",
   "metadata": {},
   "outputs": [],
   "source": [
    "bap =np.mean(np.logical_not(np.logical_xor(key_r, p_keys_r)), axis=0) \n",
    "print(\"Bit Accuracy Probability (BAP):\", bap)"
   ]
  },
  {
   "cell_type": "code",
   "execution_count": null,
   "id": "5051aaf0",
   "metadata": {},
   "outputs": [],
   "source": []
  },
  {
   "cell_type": "code",
   "execution_count": null,
   "id": "19f9a6b6",
   "metadata": {},
   "outputs": [],
   "source": []
  }
 ],
 "metadata": {
  "kernelspec": {
   "display_name": "Python 3 (ipykernel)",
   "language": "python",
   "name": "python3"
  },
  "language_info": {
   "codemirror_mode": {
    "name": "ipython",
    "version": 3
   },
   "file_extension": ".py",
   "mimetype": "text/x-python",
   "name": "python",
   "nbconvert_exporter": "python",
   "pygments_lexer": "ipython3",
   "version": "3.7.16"
  }
 },
 "nbformat": 4,
 "nbformat_minor": 5
}
