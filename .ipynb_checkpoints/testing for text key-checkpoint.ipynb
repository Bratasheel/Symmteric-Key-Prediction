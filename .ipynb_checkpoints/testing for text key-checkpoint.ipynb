{
 "cells": [
  {
   "cell_type": "code",
   "execution_count": 1,
   "id": "0ba66a21",
   "metadata": {},
   "outputs": [
    {
     "name": "stderr",
     "output_type": "stream",
     "text": [
      "2023-06-09 16:06:47.970530: I tensorflow/stream_executor/platform/default/dso_loader.cc:49] Successfully opened dynamic library libcudart.so.10.1\n"
     ]
    }
   ],
   "source": [
    "import random\n",
    "import numpy as np\n",
    "import tensorflow as tf\n",
    "from tensorflow import keras\n",
    "from sklearn.model_selection import train_test_split\n",
    "from simon import SimonCipher\n",
    "import pandas as pd\n",
    "import csv\n",
    "import matplotlib.pyplot as plt\n",
    "import seaborn as sns\n",
    "from tensorflow.keras.models import load_model\n",
    "import string"
   ]
  },
  {
   "cell_type": "code",
   "execution_count": 2,
   "id": "f4ca89d7",
   "metadata": {},
   "outputs": [
    {
     "name": "stderr",
     "output_type": "stream",
     "text": [
      "2023-06-09 16:06:49.497495: I tensorflow/compiler/jit/xla_cpu_device.cc:41] Not creating XLA devices, tf_xla_enable_xla_devices not set\n",
      "2023-06-09 16:06:49.498396: I tensorflow/stream_executor/platform/default/dso_loader.cc:49] Successfully opened dynamic library libcuda.so.1\n",
      "2023-06-09 16:06:49.528753: I tensorflow/stream_executor/cuda/cuda_gpu_executor.cc:941] successful NUMA node read from SysFS had negative value (-1), but there must be at least one NUMA node, so returning NUMA node zero\n",
      "2023-06-09 16:06:49.528893: I tensorflow/core/common_runtime/gpu/gpu_device.cc:1720] Found device 0 with properties: \n",
      "pciBusID: 0000:01:00.0 name: NVIDIA GeForce MX330 computeCapability: 6.1\n",
      "coreClock: 1.594GHz coreCount: 3 deviceMemorySize: 1.95GiB deviceMemoryBandwidth: 52.21GiB/s\n",
      "2023-06-09 16:06:49.528921: I tensorflow/stream_executor/platform/default/dso_loader.cc:49] Successfully opened dynamic library libcudart.so.10.1\n",
      "2023-06-09 16:06:49.530241: I tensorflow/stream_executor/platform/default/dso_loader.cc:49] Successfully opened dynamic library libcublas.so.10\n",
      "2023-06-09 16:06:49.530281: I tensorflow/stream_executor/platform/default/dso_loader.cc:49] Successfully opened dynamic library libcublasLt.so.10\n",
      "2023-06-09 16:06:49.531355: I tensorflow/stream_executor/platform/default/dso_loader.cc:49] Successfully opened dynamic library libcufft.so.10\n",
      "2023-06-09 16:06:49.531517: I tensorflow/stream_executor/platform/default/dso_loader.cc:49] Successfully opened dynamic library libcurand.so.10\n",
      "2023-06-09 16:06:49.532522: I tensorflow/stream_executor/platform/default/dso_loader.cc:49] Successfully opened dynamic library libcusolver.so.10\n",
      "2023-06-09 16:06:49.533225: I tensorflow/stream_executor/platform/default/dso_loader.cc:49] Successfully opened dynamic library libcusparse.so.10\n",
      "2023-06-09 16:06:49.536011: I tensorflow/stream_executor/platform/default/dso_loader.cc:49] Successfully opened dynamic library libcudnn.so.7\n",
      "2023-06-09 16:06:49.536308: I tensorflow/stream_executor/cuda/cuda_gpu_executor.cc:941] successful NUMA node read from SysFS had negative value (-1), but there must be at least one NUMA node, so returning NUMA node zero\n",
      "2023-06-09 16:06:49.536627: I tensorflow/stream_executor/cuda/cuda_gpu_executor.cc:941] successful NUMA node read from SysFS had negative value (-1), but there must be at least one NUMA node, so returning NUMA node zero\n",
      "2023-06-09 16:06:49.536737: I tensorflow/core/common_runtime/gpu/gpu_device.cc:1862] Adding visible gpu devices: 0\n",
      "2023-06-09 16:06:49.537663: I tensorflow/core/platform/cpu_feature_guard.cc:142] This TensorFlow binary is optimized with oneAPI Deep Neural Network Library (oneDNN) to use the following CPU instructions in performance-critical operations:  SSE4.1 SSE4.2 AVX AVX2 AVX512F FMA\n",
      "To enable them in other operations, rebuild TensorFlow with the appropriate compiler flags.\n",
      "2023-06-09 16:06:49.538147: I tensorflow/compiler/jit/xla_gpu_device.cc:99] Not creating XLA devices, tf_xla_enable_xla_devices not set\n",
      "2023-06-09 16:06:49.538439: I tensorflow/stream_executor/cuda/cuda_gpu_executor.cc:941] successful NUMA node read from SysFS had negative value (-1), but there must be at least one NUMA node, so returning NUMA node zero\n",
      "2023-06-09 16:06:49.538774: I tensorflow/core/common_runtime/gpu/gpu_device.cc:1720] Found device 0 with properties: \n",
      "pciBusID: 0000:01:00.0 name: NVIDIA GeForce MX330 computeCapability: 6.1\n",
      "coreClock: 1.594GHz coreCount: 3 deviceMemorySize: 1.95GiB deviceMemoryBandwidth: 52.21GiB/s\n",
      "2023-06-09 16:06:49.538894: I tensorflow/stream_executor/platform/default/dso_loader.cc:49] Successfully opened dynamic library libcudart.so.10.1\n",
      "2023-06-09 16:06:49.539018: I tensorflow/stream_executor/platform/default/dso_loader.cc:49] Successfully opened dynamic library libcublas.so.10\n",
      "2023-06-09 16:06:49.539073: I tensorflow/stream_executor/platform/default/dso_loader.cc:49] Successfully opened dynamic library libcublasLt.so.10\n",
      "2023-06-09 16:06:49.539103: I tensorflow/stream_executor/platform/default/dso_loader.cc:49] Successfully opened dynamic library libcufft.so.10\n",
      "2023-06-09 16:06:49.539131: I tensorflow/stream_executor/platform/default/dso_loader.cc:49] Successfully opened dynamic library libcurand.so.10\n",
      "2023-06-09 16:06:49.539160: I tensorflow/stream_executor/platform/default/dso_loader.cc:49] Successfully opened dynamic library libcusolver.so.10\n",
      "2023-06-09 16:06:49.539193: I tensorflow/stream_executor/platform/default/dso_loader.cc:49] Successfully opened dynamic library libcusparse.so.10\n",
      "2023-06-09 16:06:49.539226: I tensorflow/stream_executor/platform/default/dso_loader.cc:49] Successfully opened dynamic library libcudnn.so.7\n",
      "2023-06-09 16:06:49.539482: I tensorflow/stream_executor/cuda/cuda_gpu_executor.cc:941] successful NUMA node read from SysFS had negative value (-1), but there must be at least one NUMA node, so returning NUMA node zero\n",
      "2023-06-09 16:06:49.539896: I tensorflow/stream_executor/cuda/cuda_gpu_executor.cc:941] successful NUMA node read from SysFS had negative value (-1), but there must be at least one NUMA node, so returning NUMA node zero\n",
      "2023-06-09 16:06:49.540100: I tensorflow/core/common_runtime/gpu/gpu_device.cc:1862] Adding visible gpu devices: 0\n",
      "2023-06-09 16:06:49.540169: I tensorflow/stream_executor/platform/default/dso_loader.cc:49] Successfully opened dynamic library libcudart.so.10.1\n",
      "2023-06-09 16:06:49.938330: I tensorflow/core/common_runtime/gpu/gpu_device.cc:1261] Device interconnect StreamExecutor with strength 1 edge matrix:\n",
      "2023-06-09 16:06:49.938357: I tensorflow/core/common_runtime/gpu/gpu_device.cc:1267]      0 \n",
      "2023-06-09 16:06:49.938362: I tensorflow/core/common_runtime/gpu/gpu_device.cc:1280] 0:   N \n",
      "2023-06-09 16:06:49.938600: I tensorflow/stream_executor/cuda/cuda_gpu_executor.cc:941] successful NUMA node read from SysFS had negative value (-1), but there must be at least one NUMA node, so returning NUMA node zero\n",
      "2023-06-09 16:06:49.938752: I tensorflow/stream_executor/cuda/cuda_gpu_executor.cc:941] successful NUMA node read from SysFS had negative value (-1), but there must be at least one NUMA node, so returning NUMA node zero\n",
      "2023-06-09 16:06:49.938864: I tensorflow/stream_executor/cuda/cuda_gpu_executor.cc:941] successful NUMA node read from SysFS had negative value (-1), but there must be at least one NUMA node, so returning NUMA node zero\n",
      "2023-06-09 16:06:49.938955: I tensorflow/core/common_runtime/gpu/gpu_device.cc:1406] Created TensorFlow device (/job:localhost/replica:0/task:0/device:GPU:0 with 1625 MB memory) -> physical GPU (device: 0, name: NVIDIA GeForce MX330, pci bus id: 0000:01:00.0, compute capability: 6.1)\n"
     ]
    }
   ],
   "source": [
    "model=load_model('model2.h5')"
   ]
  },
  {
   "cell_type": "code",
   "execution_count": 3,
   "id": "a8112c4c",
   "metadata": {},
   "outputs": [],
   "source": [
    "def convert_string_to_64_bit_binary(string):\n",
    "    # Encode the string using UTF-8\n",
    "    encoded_string = string.encode('utf-8')\n",
    "    \n",
    "    # Convert each byte to its binary representation\n",
    "    binary_list = [format(byte, '08b') for byte in encoded_string]\n",
    "    \n",
    "    # Extend the list to have a total of 64 bits\n",
    "    binary_list.extend(['00000000'] * (8 - len(binary_list)))\n",
    "    \n",
    "    # Join the binary strings and return the result\n",
    "    binary_representation = ''.join(binary_list)\n",
    "    return binary_representation"
   ]
  },
  {
   "cell_type": "code",
   "execution_count": 4,
   "id": "28eb8010",
   "metadata": {},
   "outputs": [],
   "source": [
    "plaintext = random.randint(0, (1 << 32) - 1)\n",
    "key = ''.join(random.choice(list('0123456789ABCDEFGHIJKLMNOPQRSTUVWXYZabcdefghijklmnopqrstuvwxyz@?')) for _ in range(8))\n",
    "key_bits = convert_string_to_64_bit_binary(key)\n",
    "key_int = int(key_bits)\n",
    "cipher = SimonCipher(key_int, key_size=64, block_size=32)\n",
    "ciphertext = cipher.encrypt(plaintext)\n"
   ]
  },
  {
   "cell_type": "code",
   "execution_count": 5,
   "id": "4e4c053c",
   "metadata": {},
   "outputs": [
    {
     "data": {
      "text/plain": [
       "'loXVyPJQ'"
      ]
     },
     "execution_count": 5,
     "metadata": {},
     "output_type": "execute_result"
    }
   ],
   "source": [
    "key"
   ]
  },
  {
   "cell_type": "code",
   "execution_count": 6,
   "id": "9720599e",
   "metadata": {},
   "outputs": [
    {
     "data": {
      "text/plain": [
       "'0110110001101111010110000101011001111001010100000100101001010001'"
      ]
     },
     "execution_count": 6,
     "metadata": {},
     "output_type": "execute_result"
    }
   ],
   "source": [
    "key_bits"
   ]
  },
  {
   "cell_type": "code",
   "execution_count": 7,
   "id": "56affe24",
   "metadata": {},
   "outputs": [
    {
     "data": {
      "text/plain": [
       "64"
      ]
     },
     "execution_count": 7,
     "metadata": {},
     "output_type": "execute_result"
    }
   ],
   "source": [
    "len(key_bits)"
   ]
  },
  {
   "cell_type": "code",
   "execution_count": 8,
   "id": "d1c6dcca",
   "metadata": {},
   "outputs": [],
   "source": [
    "plaintexts = []\n",
    "ciphertexts = []\n",
    "keys = []\n",
    "\n",
    "\n",
    "plaintext_bits = np.array(list(format(plaintext, '032b')), dtype=int)\n",
    "ciphertext_bits = np.array(list(format(ciphertext, '032b')), dtype=int)\n",
    "key_bit = np.array([int(key_bit) for key_bit in key_bits])\n",
    "plaintexts.append(plaintext_bits)\n",
    "ciphertexts.append(ciphertext_bits)\n",
    "keys.append(key_bit)\n",
    "\n",
    "    # Convert the lists to NumPy arrays\n",
    "plaintexts = np.array(plaintexts)\n",
    "ciphertexts = np.array(ciphertexts)\n",
    "keys = np.array(keys)"
   ]
  },
  {
   "cell_type": "code",
   "execution_count": 9,
   "id": "a2b7942a",
   "metadata": {},
   "outputs": [
    {
     "name": "stderr",
     "output_type": "stream",
     "text": [
      "2023-06-09 16:06:50.121013: I tensorflow/compiler/mlir/mlir_graph_optimization_pass.cc:116] None of the MLIR optimization passes are enabled (registered 2)\n",
      "2023-06-09 16:06:50.121321: I tensorflow/core/platform/profile_utils/cpu_utils.cc:112] CPU Frequency: 1497600000 Hz\n",
      "2023-06-09 16:06:50.173308: I tensorflow/stream_executor/platform/default/dso_loader.cc:49] Successfully opened dynamic library libcublas.so.10\n"
     ]
    }
   ],
   "source": [
    "p_keys = model.predict(np.concatenate((plaintexts,ciphertexts),axis=1))\n"
   ]
  },
  {
   "cell_type": "code",
   "execution_count": 10,
   "id": "86dfcc84",
   "metadata": {},
   "outputs": [],
   "source": [
    "p_keys =np.where(p_keys < 0.5, 0, 1)"
   ]
  },
  {
   "cell_type": "code",
   "execution_count": 11,
   "id": "9bab8d79",
   "metadata": {},
   "outputs": [
    {
     "data": {
      "text/plain": [
       "array([[0, 1, 0, 0, 1, 0, 1, 0, 0, 1, 0, 0, 0, 1, 1, 0, 0, 1, 1, 0, 0, 0,\n",
       "        1, 0, 0, 0, 1, 0, 1, 1, 1, 1, 0, 1, 1, 1, 0, 1, 1, 1, 0, 1, 1, 0,\n",
       "        0, 1, 1, 0, 0, 1, 0, 0, 1, 1, 0, 1, 0, 1, 1, 0, 1, 0, 0, 0]])"
      ]
     },
     "execution_count": 11,
     "metadata": {},
     "output_type": "execute_result"
    }
   ],
   "source": [
    "p_keys"
   ]
  },
  {
   "cell_type": "code",
   "execution_count": 12,
   "id": "7681b0d7",
   "metadata": {},
   "outputs": [
    {
     "data": {
      "text/plain": [
       "array([[0, 1, 1, 0, 1, 1, 0, 0, 0, 1, 1, 0, 1, 1, 1, 1, 0, 1, 0, 1, 1, 0,\n",
       "        0, 0, 0, 1, 0, 1, 0, 1, 1, 0, 0, 1, 1, 1, 1, 0, 0, 1, 0, 1, 0, 1,\n",
       "        0, 0, 0, 0, 0, 1, 0, 0, 1, 0, 1, 0, 0, 1, 0, 1, 0, 0, 0, 1]])"
      ]
     },
     "execution_count": 12,
     "metadata": {},
     "output_type": "execute_result"
    }
   ],
   "source": [
    "keys"
   ]
  },
  {
   "cell_type": "code",
   "execution_count": 13,
   "id": "164896f7",
   "metadata": {},
   "outputs": [],
   "source": [
    "key_r = keys.reshape(8,8)"
   ]
  },
  {
   "cell_type": "code",
   "execution_count": 14,
   "id": "dbc46a3e",
   "metadata": {},
   "outputs": [
    {
     "data": {
      "text/plain": [
       "array([[0, 1, 1, 0, 1, 1, 0, 0],\n",
       "       [0, 1, 1, 0, 1, 1, 1, 1],\n",
       "       [0, 1, 0, 1, 1, 0, 0, 0],\n",
       "       [0, 1, 0, 1, 0, 1, 1, 0],\n",
       "       [0, 1, 1, 1, 1, 0, 0, 1],\n",
       "       [0, 1, 0, 1, 0, 0, 0, 0],\n",
       "       [0, 1, 0, 0, 1, 0, 1, 0],\n",
       "       [0, 1, 0, 1, 0, 0, 0, 1]])"
      ]
     },
     "execution_count": 14,
     "metadata": {},
     "output_type": "execute_result"
    }
   ],
   "source": [
    "key_r"
   ]
  },
  {
   "cell_type": "code",
   "execution_count": 15,
   "id": "afff9f89",
   "metadata": {},
   "outputs": [],
   "source": [
    "p_keys_r = p_keys.reshape(8,8)"
   ]
  },
  {
   "cell_type": "code",
   "execution_count": 16,
   "id": "79d96549",
   "metadata": {},
   "outputs": [
    {
     "data": {
      "text/plain": [
       "array([[0, 1, 0, 0, 1, 0, 1, 0],\n",
       "       [0, 1, 0, 0, 0, 1, 1, 0],\n",
       "       [0, 1, 1, 0, 0, 0, 1, 0],\n",
       "       [0, 0, 1, 0, 1, 1, 1, 1],\n",
       "       [0, 1, 1, 1, 0, 1, 1, 1],\n",
       "       [0, 1, 1, 0, 0, 1, 1, 0],\n",
       "       [0, 1, 0, 0, 1, 1, 0, 1],\n",
       "       [0, 1, 1, 0, 1, 0, 0, 0]])"
      ]
     },
     "execution_count": 16,
     "metadata": {},
     "output_type": "execute_result"
    }
   ],
   "source": [
    "p_keys_r"
   ]
  },
  {
   "cell_type": "code",
   "execution_count": 17,
   "id": "224542ca",
   "metadata": {},
   "outputs": [
    {
     "name": "stdout",
     "output_type": "stream",
     "text": [
      "Bit Accuracy Probability (BAP): [1.    0.875 0.25  0.5   0.375 0.5   0.375 0.5  ]\n"
     ]
    }
   ],
   "source": [
    "bap =np.mean(np.logical_not(np.logical_xor(key_r, p_keys_r)), axis=0) \n",
    "print(\"Bit Accuracy Probability (BAP):\", bap)"
   ]
  },
  {
   "cell_type": "code",
   "execution_count": 18,
   "id": "f1de11cc",
   "metadata": {},
   "outputs": [
    {
     "data": {
      "image/png": "[encoded data removed]",
      "text/plain": [
       "<Figure size 1000x500 with 1 Axes>"
      ]
     },
     "metadata": {},
     "output_type": "display_data"
    }
   ],
   "source": [
    "plt.figure(figsize=(10, 5))\n",
    "plt.plot(range(8), bap, marker='o')\n",
    "plt.xlabel('Text Character')\n",
    "plt.ylabel('Bit Accuracy Probability (BAP)')\n",
    "plt.title('BAP for Each Text Key Character')\n",
    "plt.grid(True)\n",
    "plt.show()"
   ]
  },
  {
   "cell_type": "code",
   "execution_count": 21,
   "id": "5b22cea9",
   "metadata": {},
   "outputs": [],
   "source": []
  },
  {
   "cell_type": "code",
   "execution_count": 22,
   "id": "b90f5a17",
   "metadata": {},
   "outputs": [
    {
     "data": {
      "text/plain": [
       "0.546875"
      ]
     },
     "execution_count": 22,
     "metadata": {},
     "output_type": "execute_result"
    }
   ],
   "source": []
  },
  {
   "cell_type": "code",
   "execution_count": null,
   "id": "0d7d2775",
   "metadata": {},
   "outputs": [],
   "source": []
  }
 ],
 "metadata": {
  "kernelspec": {
   "display_name": "Python 3 (ipykernel)",
   "language": "python",
   "name": "python3"
  },
  "language_info": {
   "codemirror_mode": {
    "name": "ipython",
    "version": 3
   },
   "file_extension": ".py",
   "mimetype": "text/x-python",
   "name": "python",
   "nbconvert_exporter": "python",
   "pygments_lexer": "ipython3",
   "version": "3.7.16"
  }
 },
 "nbformat": 4,
 "nbformat_minor": 5
}
