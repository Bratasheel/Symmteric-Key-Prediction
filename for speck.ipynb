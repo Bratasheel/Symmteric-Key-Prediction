{
 "cells": [
  {
   "cell_type": "code",
   "execution_count": 1,
   "id": "4d8db4bf",
   "metadata": {},
   "outputs": [
    {
     "name": "stderr",
     "output_type": "stream",
     "text": [
      "2023-06-09 14:48:41.147113: I tensorflow/stream_executor/platform/default/dso_loader.cc:49] Successfully opened dynamic library libcudart.so.10.1\n"
     ]
    }
   ],
   "source": [
    "import random\n",
    "import numpy as np\n",
    "import tensorflow as tf\n",
    "from tensorflow import keras\n",
    "from sklearn.model_selection import train_test_split\n",
    "from speck import SpeckCipher\n",
    "import pandas as pd\n",
    "import csv\n",
    "import matplotlib.pyplot as plt\n",
    "import seaborn as sns\n",
    "from tensorflow.keras.models import load_model"
   ]
  },
  {
   "cell_type": "code",
   "execution_count": 2,
   "id": "b99a0fa4",
   "metadata": {},
   "outputs": [],
   "source": [
    "def generate_dataset(num_samples):\n",
    "    plaintexts = []\n",
    "    ciphertexts = []\n",
    "    keys = []\n",
    "\n",
    "    for _ in range(num_samples):\n",
    "        # Generate a random 32-bit plaintext\n",
    "        plaintext = random.randint(0, (1 << 32) - 1)\n",
    "\n",
    "        # Generate a random 64-bit key\n",
    "        key = random.randint(0, (1 << 64) - 1)\n",
    "\n",
    "        # Encrypt the plaintext using Simon block cipher\n",
    "        cipher = SpeckCipher(key, key_size=64, block_size=32)\n",
    "        ciphertext = cipher.encrypt(plaintext)\n",
    "\n",
    "        # Convert the plaintext, ciphertext, and key to binary strings\n",
    "        plaintext_bits = np.array(list(format(plaintext, '032b')), dtype=int)\n",
    "        ciphertext_bits = np.array(list(format(ciphertext, '032b')), dtype=int)\n",
    "        key_bits = np.array(list(format(key, '064b')), dtype=int)\n",
    "\n",
    "        plaintexts.append(plaintext_bits)\n",
    "        ciphertexts.append(ciphertext_bits)\n",
    "        keys.append(key_bits)\n",
    "\n",
    "    # Convert the lists to NumPy arrays\n",
    "    plaintexts = np.array(plaintexts)\n",
    "    ciphertexts = np.array(ciphertexts)\n",
    "    keys = np.array(keys)\n",
    "\n",
    "    return plaintexts, ciphertexts, keys\n",
    "  \n",
    "    # Generate dataset with 1000 samples\n",
    "plaintexts, ciphertexts, keys = generate_dataset(8000)\n"
   ]
  },
  {
   "cell_type": "code",
   "execution_count": 3,
   "id": "9b3822e4",
   "metadata": {},
   "outputs": [
    {
     "name": "stderr",
     "output_type": "stream",
     "text": [
      "2023-06-09 14:48:43.097938: I tensorflow/compiler/jit/xla_cpu_device.cc:41] Not creating XLA devices, tf_xla_enable_xla_devices not set\n",
      "2023-06-09 14:48:43.098476: I tensorflow/stream_executor/platform/default/dso_loader.cc:49] Successfully opened dynamic library libcuda.so.1\n",
      "2023-06-09 14:48:43.159959: I tensorflow/stream_executor/cuda/cuda_gpu_executor.cc:941] successful NUMA node read from SysFS had negative value (-1), but there must be at least one NUMA node, so returning NUMA node zero\n",
      "2023-06-09 14:48:43.160130: I tensorflow/core/common_runtime/gpu/gpu_device.cc:1720] Found device 0 with properties: \n",
      "pciBusID: 0000:01:00.0 name: NVIDIA GeForce MX330 computeCapability: 6.1\n",
      "coreClock: 1.594GHz coreCount: 3 deviceMemorySize: 1.95GiB deviceMemoryBandwidth: 52.21GiB/s\n",
      "2023-06-09 14:48:43.160153: I tensorflow/stream_executor/platform/default/dso_loader.cc:49] Successfully opened dynamic library libcudart.so.10.1\n",
      "2023-06-09 14:48:43.161685: I tensorflow/stream_executor/platform/default/dso_loader.cc:49] Successfully opened dynamic library libcublas.so.10\n",
      "2023-06-09 14:48:43.161736: I tensorflow/stream_executor/platform/default/dso_loader.cc:49] Successfully opened dynamic library libcublasLt.so.10\n",
      "2023-06-09 14:48:43.162950: I tensorflow/stream_executor/platform/default/dso_loader.cc:49] Successfully opened dynamic library libcufft.so.10\n",
      "2023-06-09 14:48:43.163130: I tensorflow/stream_executor/platform/default/dso_loader.cc:49] Successfully opened dynamic library libcurand.so.10\n",
      "2023-06-09 14:48:43.164072: I tensorflow/stream_executor/platform/default/dso_loader.cc:49] Successfully opened dynamic library libcusolver.so.10\n",
      "2023-06-09 14:48:43.164549: I tensorflow/stream_executor/platform/default/dso_loader.cc:49] Successfully opened dynamic library libcusparse.so.10\n",
      "2023-06-09 14:48:43.166714: I tensorflow/stream_executor/platform/default/dso_loader.cc:49] Successfully opened dynamic library libcudnn.so.7\n",
      "2023-06-09 14:48:43.166952: I tensorflow/stream_executor/cuda/cuda_gpu_executor.cc:941] successful NUMA node read from SysFS had negative value (-1), but there must be at least one NUMA node, so returning NUMA node zero\n",
      "2023-06-09 14:48:43.167226: I tensorflow/stream_executor/cuda/cuda_gpu_executor.cc:941] successful NUMA node read from SysFS had negative value (-1), but there must be at least one NUMA node, so returning NUMA node zero\n",
      "2023-06-09 14:48:43.167321: I tensorflow/core/common_runtime/gpu/gpu_device.cc:1862] Adding visible gpu devices: 0\n",
      "2023-06-09 14:48:43.167704: I tensorflow/core/platform/cpu_feature_guard.cc:142] This TensorFlow binary is optimized with oneAPI Deep Neural Network Library (oneDNN) to use the following CPU instructions in performance-critical operations:  SSE4.1 SSE4.2 AVX AVX2 AVX512F FMA\n",
      "To enable them in other operations, rebuild TensorFlow with the appropriate compiler flags.\n",
      "2023-06-09 14:48:43.168232: I tensorflow/compiler/jit/xla_gpu_device.cc:99] Not creating XLA devices, tf_xla_enable_xla_devices not set\n",
      "2023-06-09 14:48:43.168663: I tensorflow/stream_executor/cuda/cuda_gpu_executor.cc:941] successful NUMA node read from SysFS had negative value (-1), but there must be at least one NUMA node, so returning NUMA node zero\n",
      "2023-06-09 14:48:43.168856: I tensorflow/core/common_runtime/gpu/gpu_device.cc:1720] Found device 0 with properties: \n",
      "pciBusID: 0000:01:00.0 name: NVIDIA GeForce MX330 computeCapability: 6.1\n",
      "coreClock: 1.594GHz coreCount: 3 deviceMemorySize: 1.95GiB deviceMemoryBandwidth: 52.21GiB/s\n",
      "2023-06-09 14:48:43.168893: I tensorflow/stream_executor/platform/default/dso_loader.cc:49] Successfully opened dynamic library libcudart.so.10.1\n",
      "2023-06-09 14:48:43.168972: I tensorflow/stream_executor/platform/default/dso_loader.cc:49] Successfully opened dynamic library libcublas.so.10\n",
      "2023-06-09 14:48:43.168993: I tensorflow/stream_executor/platform/default/dso_loader.cc:49] Successfully opened dynamic library libcublasLt.so.10\n",
      "2023-06-09 14:48:43.169008: I tensorflow/stream_executor/platform/default/dso_loader.cc:49] Successfully opened dynamic library libcufft.so.10\n",
      "2023-06-09 14:48:43.169053: I tensorflow/stream_executor/platform/default/dso_loader.cc:49] Successfully opened dynamic library libcurand.so.10\n",
      "2023-06-09 14:48:43.169067: I tensorflow/stream_executor/platform/default/dso_loader.cc:49] Successfully opened dynamic library libcusolver.so.10\n",
      "2023-06-09 14:48:43.169085: I tensorflow/stream_executor/platform/default/dso_loader.cc:49] Successfully opened dynamic library libcusparse.so.10\n",
      "2023-06-09 14:48:43.169100: I tensorflow/stream_executor/platform/default/dso_loader.cc:49] Successfully opened dynamic library libcudnn.so.7\n",
      "2023-06-09 14:48:43.169182: I tensorflow/stream_executor/cuda/cuda_gpu_executor.cc:941] successful NUMA node read from SysFS had negative value (-1), but there must be at least one NUMA node, so returning NUMA node zero\n",
      "2023-06-09 14:48:43.169335: I tensorflow/stream_executor/cuda/cuda_gpu_executor.cc:941] successful NUMA node read from SysFS had negative value (-1), but there must be at least one NUMA node, so returning NUMA node zero\n",
      "2023-06-09 14:48:43.169418: I tensorflow/core/common_runtime/gpu/gpu_device.cc:1862] Adding visible gpu devices: 0\n",
      "2023-06-09 14:48:43.169444: I tensorflow/stream_executor/platform/default/dso_loader.cc:49] Successfully opened dynamic library libcudart.so.10.1\n",
      "2023-06-09 14:48:43.566279: I tensorflow/core/common_runtime/gpu/gpu_device.cc:1261] Device interconnect StreamExecutor with strength 1 edge matrix:\n",
      "2023-06-09 14:48:43.566307: I tensorflow/core/common_runtime/gpu/gpu_device.cc:1267]      0 \n",
      "2023-06-09 14:48:43.566311: I tensorflow/core/common_runtime/gpu/gpu_device.cc:1280] 0:   N \n",
      "2023-06-09 14:48:43.566510: I tensorflow/stream_executor/cuda/cuda_gpu_executor.cc:941] successful NUMA node read from SysFS had negative value (-1), but there must be at least one NUMA node, so returning NUMA node zero\n",
      "2023-06-09 14:48:43.566656: I tensorflow/stream_executor/cuda/cuda_gpu_executor.cc:941] successful NUMA node read from SysFS had negative value (-1), but there must be at least one NUMA node, so returning NUMA node zero\n",
      "2023-06-09 14:48:43.566760: I tensorflow/stream_executor/cuda/cuda_gpu_executor.cc:941] successful NUMA node read from SysFS had negative value (-1), but there must be at least one NUMA node, so returning NUMA node zero\n",
      "2023-06-09 14:48:43.566843: I tensorflow/core/common_runtime/gpu/gpu_device.cc:1406] Created TensorFlow device (/job:localhost/replica:0/task:0/device:GPU:0 with 1625 MB memory) -> physical GPU (device: 0, name: NVIDIA GeForce MX330, pci bus id: 0000:01:00.0, compute capability: 6.1)\n"
     ]
    }
   ],
   "source": [
    "model=load_model('model.h5')"
   ]
  },
  {
   "cell_type": "code",
   "execution_count": 4,
   "id": "0a2d7fcb",
   "metadata": {},
   "outputs": [
    {
     "name": "stderr",
     "output_type": "stream",
     "text": [
      "2023-06-09 14:48:43.676986: I tensorflow/compiler/mlir/mlir_graph_optimization_pass.cc:116] None of the MLIR optimization passes are enabled (registered 2)\n",
      "2023-06-09 14:48:43.677404: I tensorflow/core/platform/profile_utils/cpu_utils.cc:112] CPU Frequency: 1497600000 Hz\n",
      "2023-06-09 14:48:43.738475: I tensorflow/stream_executor/platform/default/dso_loader.cc:49] Successfully opened dynamic library libcublas.so.10\n"
     ]
    }
   ],
   "source": [
    "predicted_keys = model.predict(np.concatenate((plaintexts, ciphertexts), axis=1))"
   ]
  },
  {
   "cell_type": "code",
   "execution_count": 5,
   "id": "504cbf7a",
   "metadata": {},
   "outputs": [
    {
     "data": {
      "text/plain": [
       "array([[9.9999917e-01, 0.0000000e+00, 6.2734384e-34, ..., 9.9996340e-01,\n",
       "        5.1598533e-21, 0.0000000e+00],\n",
       "       [0.0000000e+00, 0.0000000e+00, 2.3281133e-38, ..., 1.0000000e+00,\n",
       "        0.0000000e+00, 9.9999976e-01],\n",
       "       [5.5701712e-31, 1.0000000e+00, 1.0000000e+00, ..., 6.1851041e-37,\n",
       "        1.0000000e+00, 0.0000000e+00],\n",
       "       ...,\n",
       "       [1.0000000e+00, 1.0000000e+00, 0.0000000e+00, ..., 0.0000000e+00,\n",
       "        1.0000000e+00, 1.0335747e-31],\n",
       "       [1.3295968e-19, 1.0926048e-25, 0.0000000e+00, ..., 1.0000000e+00,\n",
       "        1.0000000e+00, 0.0000000e+00],\n",
       "       [0.0000000e+00, 1.0000000e+00, 1.0000000e+00, ..., 0.0000000e+00,\n",
       "        1.0000000e+00, 0.0000000e+00]], dtype=float32)"
      ]
     },
     "execution_count": 5,
     "metadata": {},
     "output_type": "execute_result"
    }
   ],
   "source": [
    "predicted_keys"
   ]
  },
  {
   "cell_type": "code",
   "execution_count": 6,
   "id": "c6547e59",
   "metadata": {},
   "outputs": [
    {
     "name": "stdout",
     "output_type": "stream",
     "text": [
      "250/250 [==============================] - 0s 793us/step - loss: 0.4973\n",
      "Test Loss: 0.49730855226516724\n"
     ]
    }
   ],
   "source": [
    "loss = model.evaluate(predicted_keys ,keys)\n",
    "print(\"Test Loss:\", loss)"
   ]
  },
  {
   "cell_type": "code",
   "execution_count": 8,
   "id": "d136b2ab",
   "metadata": {},
   "outputs": [
    {
     "name": "stdout",
     "output_type": "stream",
     "text": [
      "Bit Accuracy Probability (BAP): [0.491125 0.50225  0.497375 0.508375 0.505    0.498125 0.50125  0.49525\n",
      " 0.508    0.499125 0.505375 0.507    0.488625 0.494125 0.507875 0.4965\n",
      " 0.496375 0.499875 0.51     0.5      0.503125 0.49975  0.49675  0.4985\n",
      " 0.506    0.503875 0.495    0.49575  0.50925  0.495125 0.497875 0.4985\n",
      " 0.4955   0.4905   0.49925  0.509375 0.5015   0.501375 0.498    0.508125\n",
      " 0.51025  0.493875 0.49175  0.507125 0.50175  0.50525  0.506125 0.500625\n",
      " 0.489375 0.508625 0.4945   0.497    0.502375 0.511625 0.4905   0.500375\n",
      " 0.506    0.507    0.498    0.496    0.502    0.504625 0.49375  0.499625]\n"
     ]
    }
   ],
   "source": [
    "bap =np.mean(np.logical_not(np.logical_xor(keys, np.round(predicted_keys))), axis=0) \n",
    "print(\"Bit Accuracy Probability (BAP):\", bap)"
   ]
  },
  {
   "cell_type": "code",
   "execution_count": null,
   "id": "27cd2e48",
   "metadata": {},
   "outputs": [],
   "source": []
  }
 ],
 "metadata": {
  "kernelspec": {
   "display_name": "Python 3 (ipykernel)",
   "language": "python",
   "name": "python3"
  },
  "language_info": {
   "codemirror_mode": {
    "name": "ipython",
    "version": 3
   },
   "file_extension": ".py",
   "mimetype": "text/x-python",
   "name": "python",
   "nbconvert_exporter": "python",
   "pygments_lexer": "ipython3",
   "version": "3.7.16"
  }
 },
 "nbformat": 4,
 "nbformat_minor": 5
}
